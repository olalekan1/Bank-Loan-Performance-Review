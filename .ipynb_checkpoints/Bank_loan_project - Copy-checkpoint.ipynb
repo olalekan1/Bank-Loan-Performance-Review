{
 "cells": [
  {
   "cell_type": "markdown",
   "id": "75325d10-cc3f-4ad7-b45a-0be7e18f7e50",
   "metadata": {},
   "source": [
    "#### Bank Loan Performance  Review\n",
    "\n",
    "##### Project Object\n",
    "This project is to demonstrate the use of SQL and Pandas for data analysis\n",
    "\n",
    "##### Project requirements\n",
    "##### Overview KPIs\n",
    "    Sliced by All, loan status, term, Purpose, average Debt-to-Income Ratio (DTI), home ownership\n",
    "1.\tTotal loan application\n",
    "2.\tTotal loan amount\n",
    "3.\tAverage loan amount\n",
    "\n",
    "##### Why do customers apply for loan?\n",
    "1.\tPurpose\n",
    "2.\tTerm\n",
    "\n",
    "##### Good Loans KPIs\n",
    "\tGood loans(Loans with status 'Fully Paid' and 'Current.'): Sliced by Purpose, Term, home ownership\n",
    "1.\tCount\n",
    "2.\ttotal amount and percentage of good loans\n",
    "3.\taverage years of credit history\n",
    "4.\tyears in current job\n",
    "5.\taverage Debt-to-Income Ratio (DTI)\n",
    "6.\taverage credit score\n",
    "7.\taverage number of open accounts\n",
    "8.\taverage number of credit problems\n",
    "9.\taverage maximum open credit.\n",
    "\n",
    "##### Bad Loans KPIs\n",
    "    Bad loans(Loans with status 'Charged Off'): Sliced by Purpose, Term, home ownership\n",
    "1.\tCount\n",
    "2.\ttotal amount and percentage of bad loans\n",
    "3.\taverage years of credit history\n",
    "4.\tyears in current job\n",
    "5.\taverage Debt-to-Income Ratio (DTI)\n",
    "6.\taverage credit score\n",
    "7.\taverage number of open accounts\n",
    "8.\taverage number of credit problems\n",
    "9.\taverage maximum open credit.\n"
   ]
  },
  {
   "cell_type": "code",
   "execution_count": 125,
   "id": "5a3ca6de-9321-4e76-a274-68f416e8b81d",
   "metadata": {},
   "outputs": [],
   "source": [
    "import pandas as pd\n",
    "from sqlalchemy import create_engine\n",
    "pd.set_option(\"display.max_columns\", None)"
   ]
  },
  {
   "cell_type": "code",
   "execution_count": 126,
   "id": "49320005-f99c-4931-9ce1-ef5d27aed095",
   "metadata": {},
   "outputs": [],
   "source": [
    "# Establish a database connection\n",
    "with open('project_secret.txt', 'r') as file:\n",
    "    driver = file.readline().strip()\n",
    "    server_name = file.readline().strip()\n",
    "    database = file.readline().strip()\n",
    "    username = file.readline().strip()\n",
    "    password = file.readline().strip()\n",
    "    Table_credit_train = file.readline().strip()\n",
    "    Table_credit_test = file.readline().strip()\n",
    "\n",
    "# To create a SQLAlchemy engine\n",
    "engine = create_engine(f'mssql+pyodbc://{username}:{password}@{server_name}/{database}?driver={driver}')\n"
   ]
  },
  {
   "cell_type": "code",
   "execution_count": 127,
   "id": "97217f54-8533-47f5-9b83-f431386d73df",
   "metadata": {},
   "outputs": [],
   "source": [
    "# To load table in pandas df\n",
    "query = f\"SELECT * FROM {Table_credit_train}\"\n",
    "df_initial = pd.read_sql(query, engine)"
   ]
  },
  {
   "cell_type": "code",
   "execution_count": 128,
   "id": "19ffb936-8fc5-4814-8447-dca35df7762f",
   "metadata": {},
   "outputs": [
    {
     "name": "stdout",
     "output_type": "stream",
     "text": [
      "Number of data entry 100000\n"
     ]
    }
   ],
   "source": [
    "print(f\"Number of data entry {len(df_initial)}\")"
   ]
  },
  {
   "cell_type": "code",
   "execution_count": 129,
   "id": "85726aa4-314b-49ac-aca7-a62ba521094b",
   "metadata": {},
   "outputs": [],
   "source": [
    "# To load non-duplicated (based on loan_id) data into memory\n",
    "query = f\"\"\"\n",
    "with duplicate AS (\n",
    "\tSelect Loan_ID, count(*) AS duplicateLoanIDCounter from {Table_credit_train}\n",
    "\tgroup by Loan_ID\n",
    "\thaving count(*) > 1\n",
    ")\n",
    "\n",
    "select d.duplicateLoanIDCounter, t.* from {Table_credit_train} AS t\n",
    "JOIN\n",
    "duplicate d on d.loan_id = t.loan_id\n",
    "\"\"\"\n",
    "df_duplicated = pd.read_sql(query, engine)"
   ]
  },
  {
   "cell_type": "code",
   "execution_count": 130,
   "id": "452388d6-fff6-4f8b-90d4-7989cf007630",
   "metadata": {},
   "outputs": [
    {
     "name": "stdout",
     "output_type": "stream",
     "text": [
      "count    36002.0\n",
      "mean         2.0\n",
      "std          0.0\n",
      "min          2.0\n",
      "25%          2.0\n",
      "50%          2.0\n",
      "75%          2.0\n",
      "max          2.0\n",
      "Name: duplicateLoanIDCounter, dtype: float64\n"
     ]
    }
   ],
   "source": [
    "print(df_duplicated['duplicateLoanIDCounter'].describe())"
   ]
  },
  {
   "cell_type": "code",
   "execution_count": 131,
   "id": "9102abce-1cb6-4b75-be6b-34a38886b67c",
   "metadata": {},
   "outputs": [],
   "source": [
    "# To reload the data without duplicate rows\n",
    "query = f\"\"\"\n",
    "WITH numbered_rows AS (\n",
    "    SELECT\n",
    "        *,\n",
    "        ROW_NUMBER() OVER (PARTITION BY Loan_ID ORDER BY Loan_ID) AS row_num\n",
    "    FROM {Table_credit_train}\n",
    ")\n",
    "SELECT *\n",
    "FROM numbered_rows\n",
    "WHERE row_num = 1;\n",
    "\"\"\"\n",
    "df_non_duplicated = pd.read_sql(query, engine)"
   ]
  },
  {
   "cell_type": "code",
   "execution_count": 183,
   "id": "b8d6ca75-f908-4ab2-a1e3-ef1d994ccad1",
   "metadata": {},
   "outputs": [
    {
     "name": "stdout",
     "output_type": "stream",
     "text": [
      "Number of non-duplicated clean data is 81999\n"
     ]
    }
   ],
   "source": [
    "print(f\"Number of non-duplicated clean data is {len(df_non_duplicated)}\")"
   ]
  },
  {
   "cell_type": "code",
   "execution_count": 133,
   "id": "be3be4b0-bfe1-4cfa-a1c8-6c64ebfddd0d",
   "metadata": {},
   "outputs": [
    {
     "data": {
      "text/plain": [
       "81999.0"
      ]
     },
     "execution_count": 133,
     "metadata": {},
     "output_type": "execute_result"
    }
   ],
   "source": [
    "100000 - (36002/2)"
   ]
  },
  {
   "cell_type": "code",
   "execution_count": 134,
   "id": "1cad7f5d-7324-46fb-b332-3f7dfde810a9",
   "metadata": {},
   "outputs": [],
   "source": [
    "df_final=df_non_duplicated.copy()"
   ]
  },
  {
   "cell_type": "code",
   "execution_count": 135,
   "id": "c65215bb-2fd0-487a-8fff-2bbc1a26bfb2",
   "metadata": {},
   "outputs": [
    {
     "data": {
      "text/html": [
       "<div>\n",
       "<style scoped>\n",
       "    .dataframe tbody tr th:only-of-type {\n",
       "        vertical-align: middle;\n",
       "    }\n",
       "\n",
       "    .dataframe tbody tr th {\n",
       "        vertical-align: top;\n",
       "    }\n",
       "\n",
       "    .dataframe thead th {\n",
       "        text-align: right;\n",
       "    }\n",
       "</style>\n",
       "<table border=\"1\" class=\"dataframe\">\n",
       "  <thead>\n",
       "    <tr style=\"text-align: right;\">\n",
       "      <th></th>\n",
       "      <th>loan_id</th>\n",
       "      <th>customer_id</th>\n",
       "      <th>loan_status</th>\n",
       "      <th>current_loan_amount</th>\n",
       "      <th>term</th>\n",
       "      <th>credit_score</th>\n",
       "      <th>annual_income</th>\n",
       "      <th>years_in_current_job</th>\n",
       "      <th>home_ownership</th>\n",
       "      <th>purpose</th>\n",
       "      <th>monthly_debt</th>\n",
       "      <th>years_of_credit_history</th>\n",
       "      <th>months_since_last_delinquent</th>\n",
       "      <th>number_of_open_accounts</th>\n",
       "      <th>number_of_credit_problems</th>\n",
       "      <th>current_credit_balance</th>\n",
       "      <th>maximum_open_credit</th>\n",
       "      <th>bankruptcies</th>\n",
       "      <th>tax_liens</th>\n",
       "      <th>row_num</th>\n",
       "    </tr>\n",
       "  </thead>\n",
       "  <tbody>\n",
       "    <tr>\n",
       "      <th>0</th>\n",
       "      <td>0000757f-a121-41ed-b17b-162e76647c1f</td>\n",
       "      <td>dde79588-12f0-4811-bab0-e2b07f633fcd</td>\n",
       "      <td>Fully Paid</td>\n",
       "      <td>258082</td>\n",
       "      <td>Short Term</td>\n",
       "      <td>746.0</td>\n",
       "      <td>950475.0</td>\n",
       "      <td>4 years</td>\n",
       "      <td>Rent</td>\n",
       "      <td>Debt Consolidation</td>\n",
       "      <td>6748.419922</td>\n",
       "      <td>11.500000</td>\n",
       "      <td>NaN</td>\n",
       "      <td>12</td>\n",
       "      <td>0</td>\n",
       "      <td>330429</td>\n",
       "      <td>815782.0</td>\n",
       "      <td>0.0</td>\n",
       "      <td>0.0</td>\n",
       "      <td>1</td>\n",
       "    </tr>\n",
       "    <tr>\n",
       "      <th>1</th>\n",
       "      <td>0000afa6-8902-4f8f-b870-25a8fdad0aeb</td>\n",
       "      <td>e49c1a82-a0f7-45e8-9f46-2f75c43f9fbc</td>\n",
       "      <td>Charged Off</td>\n",
       "      <td>541486</td>\n",
       "      <td>Long Term</td>\n",
       "      <td>NaN</td>\n",
       "      <td>NaN</td>\n",
       "      <td>6 years</td>\n",
       "      <td>Rent</td>\n",
       "      <td>Business Loan</td>\n",
       "      <td>10303.509766</td>\n",
       "      <td>17.600000</td>\n",
       "      <td>73.0</td>\n",
       "      <td>7</td>\n",
       "      <td>0</td>\n",
       "      <td>268337</td>\n",
       "      <td>372988.0</td>\n",
       "      <td>0.0</td>\n",
       "      <td>0.0</td>\n",
       "      <td>1</td>\n",
       "    </tr>\n",
       "    <tr>\n",
       "      <th>2</th>\n",
       "      <td>00020fb0-6b8a-4b3a-8c72-9c4c847e8cb6</td>\n",
       "      <td>c9decd06-16f7-44c3-b007-8776f2a9233d</td>\n",
       "      <td>Fully Paid</td>\n",
       "      <td>99999999</td>\n",
       "      <td>Short Term</td>\n",
       "      <td>742.0</td>\n",
       "      <td>1230440.0</td>\n",
       "      <td>3 years</td>\n",
       "      <td>Home Mortgage</td>\n",
       "      <td>Debt Consolidation</td>\n",
       "      <td>11073.959961</td>\n",
       "      <td>26.799999</td>\n",
       "      <td>NaN</td>\n",
       "      <td>11</td>\n",
       "      <td>0</td>\n",
       "      <td>168720</td>\n",
       "      <td>499642.0</td>\n",
       "      <td>0.0</td>\n",
       "      <td>0.0</td>\n",
       "      <td>1</td>\n",
       "    </tr>\n",
       "    <tr>\n",
       "      <th>3</th>\n",
       "      <td>00045ecd-59e9-4752-ba0d-679ff71692b3</td>\n",
       "      <td>b7bce684-b4b0-4b29-af66-eae316bce573</td>\n",
       "      <td>Fully Paid</td>\n",
       "      <td>260986</td>\n",
       "      <td>Short Term</td>\n",
       "      <td>734.0</td>\n",
       "      <td>1314838.0</td>\n",
       "      <td>10+ years</td>\n",
       "      <td>Own Home</td>\n",
       "      <td>Debt Consolidation</td>\n",
       "      <td>16325.940430</td>\n",
       "      <td>30.299999</td>\n",
       "      <td>NaN</td>\n",
       "      <td>7</td>\n",
       "      <td>0</td>\n",
       "      <td>189221</td>\n",
       "      <td>373890.0</td>\n",
       "      <td>0.0</td>\n",
       "      <td>0.0</td>\n",
       "      <td>1</td>\n",
       "    </tr>\n",
       "    <tr>\n",
       "      <th>4</th>\n",
       "      <td>0004f37b-5859-40f6-98d0-367aa3b3f3f1</td>\n",
       "      <td>f662b062-5fa5-463d-b5c0-4e36d09fcab1</td>\n",
       "      <td>Fully Paid</td>\n",
       "      <td>301818</td>\n",
       "      <td>Short Term</td>\n",
       "      <td>NaN</td>\n",
       "      <td>NaN</td>\n",
       "      <td>1 year</td>\n",
       "      <td>Own Home</td>\n",
       "      <td>Home Improvements</td>\n",
       "      <td>14770.219727</td>\n",
       "      <td>13.600000</td>\n",
       "      <td>2.0</td>\n",
       "      <td>12</td>\n",
       "      <td>0</td>\n",
       "      <td>127680</td>\n",
       "      <td>1173370.0</td>\n",
       "      <td>0.0</td>\n",
       "      <td>0.0</td>\n",
       "      <td>1</td>\n",
       "    </tr>\n",
       "  </tbody>\n",
       "</table>\n",
       "</div>"
      ],
      "text/plain": [
       "                                loan_id                           customer_id  \\\n",
       "0  0000757f-a121-41ed-b17b-162e76647c1f  dde79588-12f0-4811-bab0-e2b07f633fcd   \n",
       "1  0000afa6-8902-4f8f-b870-25a8fdad0aeb  e49c1a82-a0f7-45e8-9f46-2f75c43f9fbc   \n",
       "2  00020fb0-6b8a-4b3a-8c72-9c4c847e8cb6  c9decd06-16f7-44c3-b007-8776f2a9233d   \n",
       "3  00045ecd-59e9-4752-ba0d-679ff71692b3  b7bce684-b4b0-4b29-af66-eae316bce573   \n",
       "4  0004f37b-5859-40f6-98d0-367aa3b3f3f1  f662b062-5fa5-463d-b5c0-4e36d09fcab1   \n",
       "\n",
       "   loan_status  current_loan_amount        term  credit_score  annual_income  \\\n",
       "0   Fully Paid               258082  Short Term         746.0       950475.0   \n",
       "1  Charged Off               541486   Long Term           NaN            NaN   \n",
       "2   Fully Paid             99999999  Short Term         742.0      1230440.0   \n",
       "3   Fully Paid               260986  Short Term         734.0      1314838.0   \n",
       "4   Fully Paid               301818  Short Term           NaN            NaN   \n",
       "\n",
       "  years_in_current_job home_ownership             purpose  monthly_debt  \\\n",
       "0              4 years           Rent  Debt Consolidation   6748.419922   \n",
       "1              6 years           Rent       Business Loan  10303.509766   \n",
       "2              3 years  Home Mortgage  Debt Consolidation  11073.959961   \n",
       "3            10+ years       Own Home  Debt Consolidation  16325.940430   \n",
       "4               1 year       Own Home   Home Improvements  14770.219727   \n",
       "\n",
       "   years_of_credit_history  months_since_last_delinquent  \\\n",
       "0                11.500000                           NaN   \n",
       "1                17.600000                          73.0   \n",
       "2                26.799999                           NaN   \n",
       "3                30.299999                           NaN   \n",
       "4                13.600000                           2.0   \n",
       "\n",
       "   number_of_open_accounts  number_of_credit_problems  current_credit_balance  \\\n",
       "0                       12                          0                  330429   \n",
       "1                        7                          0                  268337   \n",
       "2                       11                          0                  168720   \n",
       "3                        7                          0                  189221   \n",
       "4                       12                          0                  127680   \n",
       "\n",
       "   maximum_open_credit  bankruptcies  tax_liens  row_num  \n",
       "0             815782.0           0.0        0.0        1  \n",
       "1             372988.0           0.0        0.0        1  \n",
       "2             499642.0           0.0        0.0        1  \n",
       "3             373890.0           0.0        0.0        1  \n",
       "4            1173370.0           0.0        0.0        1  "
      ]
     },
     "execution_count": 135,
     "metadata": {},
     "output_type": "execute_result"
    }
   ],
   "source": [
    "df_final.columns = [x.lower() for x in df_final.columns] # Change field name to lower case\n",
    "df_final.head()"
   ]
  },
  {
   "cell_type": "code",
   "execution_count": 185,
   "id": "c0a710ee-2baf-4cd6-8da3-5562ddf90cce",
   "metadata": {},
   "outputs": [
    {
     "data": {
      "text/plain": [
       "81999"
      ]
     },
     "execution_count": 185,
     "metadata": {},
     "output_type": "execute_result"
    }
   ],
   "source": [
    "len(df_final)"
   ]
  },
  {
   "cell_type": "code",
   "execution_count": 137,
   "id": "6f6bbd49-30b2-42af-ac52-e827f7f44cde",
   "metadata": {},
   "outputs": [
    {
     "data": {
      "text/html": [
       "<div>\n",
       "<style scoped>\n",
       "    .dataframe tbody tr th:only-of-type {\n",
       "        vertical-align: middle;\n",
       "    }\n",
       "\n",
       "    .dataframe tbody tr th {\n",
       "        vertical-align: top;\n",
       "    }\n",
       "\n",
       "    .dataframe thead th {\n",
       "        text-align: right;\n",
       "    }\n",
       "</style>\n",
       "<table border=\"1\" class=\"dataframe\">\n",
       "  <thead>\n",
       "    <tr style=\"text-align: right;\">\n",
       "      <th></th>\n",
       "      <th>current_loan_amount</th>\n",
       "      <th>credit_score</th>\n",
       "      <th>annual_income</th>\n",
       "      <th>monthly_debt</th>\n",
       "      <th>years_of_credit_history</th>\n",
       "      <th>months_since_last_delinquent</th>\n",
       "      <th>number_of_open_accounts</th>\n",
       "      <th>number_of_credit_problems</th>\n",
       "      <th>current_credit_balance</th>\n",
       "      <th>maximum_open_credit</th>\n",
       "      <th>bankruptcies</th>\n",
       "      <th>tax_liens</th>\n",
       "      <th>row_num</th>\n",
       "    </tr>\n",
       "  </thead>\n",
       "  <tbody>\n",
       "    <tr>\n",
       "      <th>count</th>\n",
       "      <td>8.199900e+04</td>\n",
       "      <td>64939.000000</td>\n",
       "      <td>6.493900e+04</td>\n",
       "      <td>81999.000000</td>\n",
       "      <td>81999.000000</td>\n",
       "      <td>37378.000000</td>\n",
       "      <td>81999.000000</td>\n",
       "      <td>81999.000000</td>\n",
       "      <td>8.199900e+04</td>\n",
       "      <td>8.199700e+04</td>\n",
       "      <td>81824.000000</td>\n",
       "      <td>81991.000000</td>\n",
       "      <td>81999.0</td>\n",
       "    </tr>\n",
       "    <tr>\n",
       "      <th>mean</th>\n",
       "      <td>1.210213e+07</td>\n",
       "      <td>1168.636366</td>\n",
       "      <td>1.376561e+06</td>\n",
       "      <td>18330.633109</td>\n",
       "      <td>18.296783</td>\n",
       "      <td>35.064236</td>\n",
       "      <td>11.114489</td>\n",
       "      <td>0.161441</td>\n",
       "      <td>2.936203e+05</td>\n",
       "      <td>7.935358e+05</td>\n",
       "      <td>0.113463</td>\n",
       "      <td>0.028064</td>\n",
       "      <td>1.0</td>\n",
       "    </tr>\n",
       "    <tr>\n",
       "      <th>std</th>\n",
       "      <td>3.219825e+07</td>\n",
       "      <td>1633.006359</td>\n",
       "      <td>1.119818e+06</td>\n",
       "      <td>12127.700799</td>\n",
       "      <td>7.043774</td>\n",
       "      <td>22.021222</td>\n",
       "      <td>4.981266</td>\n",
       "      <td>0.473148</td>\n",
       "      <td>3.726145e+05</td>\n",
       "      <td>9.208747e+06</td>\n",
       "      <td>0.344674</td>\n",
       "      <td>0.254642</td>\n",
       "      <td>0.0</td>\n",
       "    </tr>\n",
       "    <tr>\n",
       "      <th>min</th>\n",
       "      <td>1.080200e+04</td>\n",
       "      <td>585.000000</td>\n",
       "      <td>7.662700e+04</td>\n",
       "      <td>0.000000</td>\n",
       "      <td>3.600000</td>\n",
       "      <td>0.000000</td>\n",
       "      <td>0.000000</td>\n",
       "      <td>0.000000</td>\n",
       "      <td>0.000000e+00</td>\n",
       "      <td>0.000000e+00</td>\n",
       "      <td>0.000000</td>\n",
       "      <td>0.000000</td>\n",
       "      <td>1.0</td>\n",
       "    </tr>\n",
       "    <tr>\n",
       "      <th>25%</th>\n",
       "      <td>1.792340e+05</td>\n",
       "      <td>711.000000</td>\n",
       "      <td>8.478180e+05</td>\n",
       "      <td>10117.595215</td>\n",
       "      <td>13.500000</td>\n",
       "      <td>16.000000</td>\n",
       "      <td>8.000000</td>\n",
       "      <td>0.000000</td>\n",
       "      <td>1.133160e+05</td>\n",
       "      <td>2.804560e+05</td>\n",
       "      <td>0.000000</td>\n",
       "      <td>0.000000</td>\n",
       "      <td>1.0</td>\n",
       "    </tr>\n",
       "    <tr>\n",
       "      <th>50%</th>\n",
       "      <td>3.079120e+05</td>\n",
       "      <td>732.000000</td>\n",
       "      <td>1.170590e+06</td>\n",
       "      <td>16075.330078</td>\n",
       "      <td>17.000000</td>\n",
       "      <td>32.000000</td>\n",
       "      <td>10.000000</td>\n",
       "      <td>0.000000</td>\n",
       "      <td>2.099310e+05</td>\n",
       "      <td>4.777740e+05</td>\n",
       "      <td>0.000000</td>\n",
       "      <td>0.000000</td>\n",
       "      <td>1.0</td>\n",
       "    </tr>\n",
       "    <tr>\n",
       "      <th>75%</th>\n",
       "      <td>5.193320e+05</td>\n",
       "      <td>743.000000</td>\n",
       "      <td>1.649248e+06</td>\n",
       "      <td>23811.370117</td>\n",
       "      <td>21.799999</td>\n",
       "      <td>51.000000</td>\n",
       "      <td>14.000000</td>\n",
       "      <td>0.000000</td>\n",
       "      <td>3.669945e+05</td>\n",
       "      <td>7.984900e+05</td>\n",
       "      <td>0.000000</td>\n",
       "      <td>0.000000</td>\n",
       "      <td>1.0</td>\n",
       "    </tr>\n",
       "    <tr>\n",
       "      <th>max</th>\n",
       "      <td>1.000000e+08</td>\n",
       "      <td>7510.000000</td>\n",
       "      <td>1.655574e+08</td>\n",
       "      <td>435843.281250</td>\n",
       "      <td>70.500000</td>\n",
       "      <td>176.000000</td>\n",
       "      <td>76.000000</td>\n",
       "      <td>15.000000</td>\n",
       "      <td>3.287897e+07</td>\n",
       "      <td>1.539738e+09</td>\n",
       "      <td>7.000000</td>\n",
       "      <td>15.000000</td>\n",
       "      <td>1.0</td>\n",
       "    </tr>\n",
       "  </tbody>\n",
       "</table>\n",
       "</div>"
      ],
      "text/plain": [
       "       current_loan_amount  credit_score  annual_income   monthly_debt  \\\n",
       "count         8.199900e+04  64939.000000   6.493900e+04   81999.000000   \n",
       "mean          1.210213e+07   1168.636366   1.376561e+06   18330.633109   \n",
       "std           3.219825e+07   1633.006359   1.119818e+06   12127.700799   \n",
       "min           1.080200e+04    585.000000   7.662700e+04       0.000000   \n",
       "25%           1.792340e+05    711.000000   8.478180e+05   10117.595215   \n",
       "50%           3.079120e+05    732.000000   1.170590e+06   16075.330078   \n",
       "75%           5.193320e+05    743.000000   1.649248e+06   23811.370117   \n",
       "max           1.000000e+08   7510.000000   1.655574e+08  435843.281250   \n",
       "\n",
       "       years_of_credit_history  months_since_last_delinquent  \\\n",
       "count             81999.000000                  37378.000000   \n",
       "mean                 18.296783                     35.064236   \n",
       "std                   7.043774                     22.021222   \n",
       "min                   3.600000                      0.000000   \n",
       "25%                  13.500000                     16.000000   \n",
       "50%                  17.000000                     32.000000   \n",
       "75%                  21.799999                     51.000000   \n",
       "max                  70.500000                    176.000000   \n",
       "\n",
       "       number_of_open_accounts  number_of_credit_problems  \\\n",
       "count             81999.000000               81999.000000   \n",
       "mean                 11.114489                   0.161441   \n",
       "std                   4.981266                   0.473148   \n",
       "min                   0.000000                   0.000000   \n",
       "25%                   8.000000                   0.000000   \n",
       "50%                  10.000000                   0.000000   \n",
       "75%                  14.000000                   0.000000   \n",
       "max                  76.000000                  15.000000   \n",
       "\n",
       "       current_credit_balance  maximum_open_credit  bankruptcies  \\\n",
       "count            8.199900e+04         8.199700e+04  81824.000000   \n",
       "mean             2.936203e+05         7.935358e+05      0.113463   \n",
       "std              3.726145e+05         9.208747e+06      0.344674   \n",
       "min              0.000000e+00         0.000000e+00      0.000000   \n",
       "25%              1.133160e+05         2.804560e+05      0.000000   \n",
       "50%              2.099310e+05         4.777740e+05      0.000000   \n",
       "75%              3.669945e+05         7.984900e+05      0.000000   \n",
       "max              3.287897e+07         1.539738e+09      7.000000   \n",
       "\n",
       "          tax_liens  row_num  \n",
       "count  81991.000000  81999.0  \n",
       "mean       0.028064      1.0  \n",
       "std        0.254642      0.0  \n",
       "min        0.000000      1.0  \n",
       "25%        0.000000      1.0  \n",
       "50%        0.000000      1.0  \n",
       "75%        0.000000      1.0  \n",
       "max       15.000000      1.0  "
      ]
     },
     "execution_count": 137,
     "metadata": {},
     "output_type": "execute_result"
    }
   ],
   "source": [
    "df_final.describe()"
   ]
  },
  {
   "cell_type": "code",
   "execution_count": 138,
   "id": "aba94dd4-d80f-46fb-8e9c-d9fc9ece014e",
   "metadata": {},
   "outputs": [
    {
     "name": "stdout",
     "output_type": "stream",
     "text": [
      "<class 'pandas.core.frame.DataFrame'>\n",
      "RangeIndex: 81999 entries, 0 to 81998\n",
      "Data columns (total 20 columns):\n",
      " #   Column                        Non-Null Count  Dtype  \n",
      "---  ------                        --------------  -----  \n",
      " 0   loan_id                       81999 non-null  object \n",
      " 1   customer_id                   81999 non-null  object \n",
      " 2   loan_status                   81999 non-null  object \n",
      " 3   current_loan_amount           81999 non-null  int64  \n",
      " 4   term                          81999 non-null  object \n",
      " 5   credit_score                  64939 non-null  float64\n",
      " 6   annual_income                 64939 non-null  float64\n",
      " 7   years_in_current_job          81999 non-null  object \n",
      " 8   home_ownership                81999 non-null  object \n",
      " 9   purpose                       81999 non-null  object \n",
      " 10  monthly_debt                  81999 non-null  float64\n",
      " 11  years_of_credit_history       81999 non-null  float64\n",
      " 12  months_since_last_delinquent  37378 non-null  float64\n",
      " 13  number_of_open_accounts       81999 non-null  int64  \n",
      " 14  number_of_credit_problems     81999 non-null  int64  \n",
      " 15  current_credit_balance        81999 non-null  int64  \n",
      " 16  maximum_open_credit           81997 non-null  float64\n",
      " 17  bankruptcies                  81824 non-null  float64\n",
      " 18  tax_liens                     81991 non-null  float64\n",
      " 19  row_num                       81999 non-null  int64  \n",
      "dtypes: float64(8), int64(5), object(7)\n",
      "memory usage: 12.5+ MB\n"
     ]
    }
   ],
   "source": [
    "df_final.info()"
   ]
  },
  {
   "cell_type": "markdown",
   "id": "63828887-44f7-434b-9082-bae9fd8fa0cf",
   "metadata": {},
   "source": [
    "#"
   ]
  },
  {
   "cell_type": "markdown",
   "id": "94ac3f52-60c6-4d9f-ae42-077eec0e9fc9",
   "metadata": {},
   "source": [
    "### KPIs"
   ]
  },
  {
   "cell_type": "markdown",
   "id": "08733c2a-3921-419e-a54f-0c8e25ed451e",
   "metadata": {},
   "source": [
    "#### Overview KPIs\n",
    "    Sliced by All, loan status, term, Purpose, average Debt-to-Income Ratio (DTI), home ownership\n",
    "1.\tTotal loan application\n",
    "2.\tTotal loan amount\n",
    "3.\tAverage loan amount"
   ]
  },
  {
   "cell_type": "markdown",
   "id": "3d4237c3-ea09-4867-ab87-7eaba38246ff",
   "metadata": {},
   "source": [
    "#### Sliced by All"
   ]
  },
  {
   "cell_type": "code",
   "execution_count": 175,
   "id": "4bcc0689-7777-42b1-b3dc-2e6134f159ff",
   "metadata": {},
   "outputs": [
    {
     "data": {
      "text/html": [
       "<div>\n",
       "<style scoped>\n",
       "    .dataframe tbody tr th:only-of-type {\n",
       "        vertical-align: middle;\n",
       "    }\n",
       "\n",
       "    .dataframe tbody tr th {\n",
       "        vertical-align: top;\n",
       "    }\n",
       "\n",
       "    .dataframe thead th {\n",
       "        text-align: right;\n",
       "    }\n",
       "</style>\n",
       "<table border=\"1\" class=\"dataframe\">\n",
       "  <thead>\n",
       "    <tr style=\"text-align: right;\">\n",
       "      <th></th>\n",
       "      <th>Total loan application</th>\n",
       "      <th>Total loan amount</th>\n",
       "      <th>Average loan amount</th>\n",
       "    </tr>\n",
       "  </thead>\n",
       "  <tbody>\n",
       "    <tr>\n",
       "      <th>0</th>\n",
       "      <td>81,999</td>\n",
       "      <td>992,362,799,131</td>\n",
       "      <td>12,102,133</td>\n",
       "    </tr>\n",
       "  </tbody>\n",
       "</table>\n",
       "</div>"
      ],
      "text/plain": [
       "  Total loan application Total loan amount Average loan amount\n",
       "0                 81,999   992,362,799,131          12,102,133"
      ]
     },
     "execution_count": 175,
     "metadata": {},
     "output_type": "execute_result"
    }
   ],
   "source": [
    "# Pandas Result\n",
    "result = {\n",
    "    \"Total loan application\": ['{:,.0f}'.format(len(df_final))],\n",
    "    \"Total loan amount\": ['{:,.0f}'.format(df_final['current_loan_amount'].dropna().sum())],\n",
    "    \"Average loan amount\": ['{:,.0f}'.format(df_final['current_loan_amount'].dropna().mean())]\n",
    "}\n",
    "pd.DataFrame(result)"
   ]
  },
  {
   "cell_type": "code",
   "execution_count": 178,
   "id": "639af813-40c9-4c11-b30b-e0600098e420",
   "metadata": {},
   "outputs": [
    {
     "name": "stdout",
     "output_type": "stream",
     "text": [
      "   total_loan_application  total_loan_amount  average_loan_amount\n",
      "0                   81999       990672421134         1.208152e+07\n"
     ]
    }
   ],
   "source": [
    "# SQL Equivalent Result\n",
    "q = f\"\"\"\n",
    "WITH numbered_rows AS (\n",
    "    SELECT\n",
    "        *,\n",
    "        ROW_NUMBER() OVER (PARTITION BY Loan_ID ORDER BY Loan_ID) AS row_num\n",
    "    FROM {Table_credit_train}\n",
    "),\n",
    "clean_data AS (\n",
    "    SELECT *\n",
    "    FROM numbered_rows\n",
    "    WHERE row_num = 1\n",
    ")\n",
    "\n",
    "SELECT \n",
    "    count(*) AS total_loan_application,\n",
    "    SUM(CASE WHEN current_loan_amount IS NOT NULL THEN CAST(current_loan_amount AS BIGINT) ELSE 0 END) AS total_loan_amount,\n",
    "    AVG(CASE WHEN current_loan_amount IS NOT NULL THEN CAST(current_loan_amount AS FLOAT) END) AS average_loan_amount\n",
    "\n",
    "FROM clean_data;\n",
    "\"\"\"\n",
    "\n",
    "result = pd.read_sql(q, engine)\n",
    "print(result)"
   ]
  },
  {
   "cell_type": "markdown",
   "id": "65ed73a0-1555-4470-8943-4ac5b50ae9a5",
   "metadata": {},
   "source": [
    "."
   ]
  },
  {
   "cell_type": "markdown",
   "id": "8a02e7ac-e9bc-486b-a67a-1ffd506f79fb",
   "metadata": {},
   "source": [
    "#### Sliced by Loan Status"
   ]
  },
  {
   "cell_type": "code",
   "execution_count": 141,
   "id": "db3da5d3-4847-4290-9475-0d3fb52a9efb",
   "metadata": {},
   "outputs": [
    {
     "data": {
      "text/html": [
       "<div>\n",
       "<style scoped>\n",
       "    .dataframe tbody tr th:only-of-type {\n",
       "        vertical-align: middle;\n",
       "    }\n",
       "\n",
       "    .dataframe tbody tr th {\n",
       "        vertical-align: top;\n",
       "    }\n",
       "\n",
       "    .dataframe thead th {\n",
       "        text-align: right;\n",
       "    }\n",
       "</style>\n",
       "<table border=\"1\" class=\"dataframe\">\n",
       "  <thead>\n",
       "    <tr style=\"text-align: right;\">\n",
       "      <th></th>\n",
       "      <th>Loan status</th>\n",
       "      <th>Total loan application</th>\n",
       "      <th>Total loan amount</th>\n",
       "      <th>Average loan amount</th>\n",
       "    </tr>\n",
       "  </thead>\n",
       "  <tbody>\n",
       "    <tr>\n",
       "      <th>0</th>\n",
       "      <td>Fully Paid</td>\n",
       "      <td>59360</td>\n",
       "      <td>985,005,684,971</td>\n",
       "      <td>16,593,762</td>\n",
       "    </tr>\n",
       "    <tr>\n",
       "      <th>1</th>\n",
       "      <td>Charged Off</td>\n",
       "      <td>22639</td>\n",
       "      <td>7,357,114,160</td>\n",
       "      <td>324,975</td>\n",
       "    </tr>\n",
       "  </tbody>\n",
       "</table>\n",
       "</div>"
      ],
      "text/plain": [
       "   Loan status  Total loan application Total loan amount Average loan amount\n",
       "0   Fully Paid                   59360   985,005,684,971          16,593,762\n",
       "1  Charged Off                   22639     7,357,114,160             324,975"
      ]
     },
     "execution_count": 141,
     "metadata": {},
     "output_type": "execute_result"
    }
   ],
   "source": [
    "# Pandas Result\n",
    "status_count = df_final['loan_status'].value_counts()\n",
    "status_list = status_count.index.tolist()\n",
    "\n",
    "total_loan_application = []\n",
    "total_loan_amount = []\n",
    "average_loan_amount = []\n",
    "\n",
    "for status in status_list:\n",
    "    total_loan_application.append(status_count[status])\n",
    "\n",
    "    # To get the total loan amount for each loan status\n",
    "    filt = df_final['loan_status'] == status\n",
    "    loan_amount_for_this_status = df_final[filt]['current_loan_amount'].sum()\n",
    "    total_loan_amount.append('{:,.0f}'.format(loan_amount_for_this_status))\n",
    "\n",
    "    # To get the average loan amount for each loan status\n",
    "    filt = df_final['loan_status'] == status\n",
    "    average_loan_amount_for_this_status = df_final[filt]['current_loan_amount'].mean()\n",
    "    average_loan_amount.append('{:,.0f}'.format(average_loan_amount_for_this_status))\n",
    "\n",
    "\n",
    "result = {\n",
    "    \"Loan status\" : status_list,\n",
    "    \"Total loan application\" : total_loan_application,\n",
    "    \"Total loan amount\" : total_loan_amount,\n",
    "    \"Average loan amount\" : average_loan_amount\n",
    "}\n",
    "\n",
    "\n",
    "pd.DataFrame(result)"
   ]
  },
  {
   "cell_type": "code",
   "execution_count": 162,
   "id": "27907977-749d-4045-a882-cf8e6931cc45",
   "metadata": {},
   "outputs": [
    {
     "name": "stdout",
     "output_type": "stream",
     "text": [
      "985005684971\n"
     ]
    },
    {
     "data": {
      "text/plain": [
       "985005684971"
      ]
     },
     "execution_count": 162,
     "metadata": {},
     "output_type": "execute_result"
    }
   ],
   "source": [
    "import numpy as np\n",
    "filt = df_final['loan_status'] == 'Fully Paid'\n",
    "print(df_final[filt]['current_loan_amount'].sum())\n",
    "np.sum(df_final[filt]['current_loan_amount'])"
   ]
  },
  {
   "cell_type": "code",
   "execution_count": 165,
   "id": "078504c7-40a9-4086-8151-fa847bebcd8c",
   "metadata": {},
   "outputs": [
    {
     "name": "stdout",
     "output_type": "stream",
     "text": [
      "   loan_status  total_loan_application  total_loan_amount  average_loan_amount\n",
      "0   Fully Paid                   59360       982915977010             16558557\n",
      "1  Charged Off                   22639         7357114160               324975\n"
     ]
    }
   ],
   "source": [
    "# SQL Equivalent Result\n",
    "q = f\"\"\"\n",
    "WITH numbered_rows AS (\n",
    "    SELECT\n",
    "        *,\n",
    "        ROW_NUMBER() OVER (PARTITION BY Loan_ID ORDER BY Loan_ID) AS row_num\n",
    "    FROM {Table_credit_train}\n",
    "),\n",
    "clean_data AS (\n",
    "    SELECT *\n",
    "    FROM numbered_rows\n",
    "    WHERE row_num = 1\n",
    ")\n",
    "SELECT\n",
    "    loan_status,\n",
    "    count(*) AS total_loan_application,\n",
    "    sum(current_loan_amount) AS total_loan_amount,\n",
    "    avg(current_loan_amount) AS average_loan_amount\n",
    "FROM clean_data\n",
    "GROUP BY loan_status\n",
    ";\n",
    "\"\"\"\n",
    "result = pd.read_sql(q, engine)\n",
    "print(result)"
   ]
  },
  {
   "cell_type": "markdown",
   "id": "c2f22c58-3eca-488b-8aeb-2cde637331df",
   "metadata": {},
   "source": [
    "#### Sliced by Loan term"
   ]
  },
  {
   "cell_type": "code",
   "execution_count": 149,
   "id": "7a2be704-56be-4692-9ea2-6437ec7ff086",
   "metadata": {},
   "outputs": [
    {
     "data": {
      "text/html": [
       "<div>\n",
       "<style scoped>\n",
       "    .dataframe tbody tr th:only-of-type {\n",
       "        vertical-align: middle;\n",
       "    }\n",
       "\n",
       "    .dataframe tbody tr th {\n",
       "        vertical-align: top;\n",
       "    }\n",
       "\n",
       "    .dataframe thead th {\n",
       "        text-align: right;\n",
       "    }\n",
       "</style>\n",
       "<table border=\"1\" class=\"dataframe\">\n",
       "  <thead>\n",
       "    <tr style=\"text-align: right;\">\n",
       "      <th></th>\n",
       "      <th>Loan term</th>\n",
       "      <th>Total loan application</th>\n",
       "      <th>Total loan amount</th>\n",
       "      <th>Average loan amount</th>\n",
       "    </tr>\n",
       "  </thead>\n",
       "  <tbody>\n",
       "    <tr>\n",
       "      <th>0</th>\n",
       "      <td>Short Term</td>\n",
       "      <td>61387</td>\n",
       "      <td>822,613,993,234</td>\n",
       "      <td>13,400,459</td>\n",
       "    </tr>\n",
       "    <tr>\n",
       "      <th>1</th>\n",
       "      <td>Long Term</td>\n",
       "      <td>20612</td>\n",
       "      <td>169,748,805,897</td>\n",
       "      <td>8,235,436</td>\n",
       "    </tr>\n",
       "  </tbody>\n",
       "</table>\n",
       "</div>"
      ],
      "text/plain": [
       "    Loan term  Total loan application Total loan amount Average loan amount\n",
       "0  Short Term                   61387   822,613,993,234          13,400,459\n",
       "1   Long Term                   20612   169,748,805,897           8,235,436"
      ]
     },
     "execution_count": 149,
     "metadata": {},
     "output_type": "execute_result"
    }
   ],
   "source": [
    "# Pandas Result\n",
    "term_count = df_final['term'].value_counts()\n",
    "term_list = term_count.index.tolist()\n",
    "\n",
    "total_loan_application = []\n",
    "total_loan_amount = []\n",
    "average_loan_amount = []\n",
    "\n",
    "for term in term_list:\n",
    "    total_loan_application.append(term_count[term])\n",
    "\n",
    "    # To get the total loan amount for each loan term\n",
    "    filt = df_final['term'] == term\n",
    "    loan_amount_for_this_term = df_final[filt]['current_loan_amount'].sum()\n",
    "    total_loan_amount.append('{:,.0f}'.format(loan_amount_for_this_term))\n",
    "\n",
    "    # To get the average loan amount for each loan term\n",
    "    filt = df_final['term'] == term\n",
    "    average_loan_amount_for_this_term = df_final[filt]['current_loan_amount'].mean()\n",
    "    average_loan_amount.append('{:,.0f}'.format(average_loan_amount_for_this_term))\n",
    "\n",
    "\n",
    "result = {\n",
    "    \"Loan term\" : term_list,\n",
    "    \"Total loan application\" : total_loan_application,\n",
    "    \"Total loan amount\" : total_loan_amount,\n",
    "    \"Average loan amount\" : average_loan_amount\n",
    "}\n",
    "\n",
    "\n",
    "pd.DataFrame(result)"
   ]
  },
  {
   "cell_type": "code",
   "execution_count": 144,
   "id": "194eb237-1f46-4bf1-be87-1ff0575d035d",
   "metadata": {},
   "outputs": [
    {
     "name": "stdout",
     "output_type": "stream",
     "text": [
      "         term  total_loan_application  total_loan_amount  average_loan_amount\n",
      "0  Short Term                   61387       822717993955             13402153\n",
      "1   Long Term                   20612       169153738083              8206565\n"
     ]
    }
   ],
   "source": [
    "# SQL Equivalent Result\n",
    "q = f\"\"\"\n",
    "WITH numbered_rows AS (\n",
    "    SELECT\n",
    "        *,\n",
    "        ROW_NUMBER() OVER (PARTITION BY Loan_ID ORDER BY Loan_ID) AS row_num\n",
    "    FROM {Table_credit_train}\n",
    "),\n",
    "clean_data AS (\n",
    "    SELECT *\n",
    "    FROM numbered_rows\n",
    "    WHERE row_num = 1\n",
    ")\n",
    "SELECT term, count(*) AS total_loan_application, sum(CAST(current_loan_amount AS BIGINT)) AS total_loan_amount, avg(CAST(current_loan_amount AS BIGINT)) AS average_loan_amount\n",
    "FROM clean_data\n",
    "GROUP BY term\n",
    ";\n",
    "\"\"\"\n",
    "result = pd.read_sql(q, engine)\n",
    "print(result)"
   ]
  },
  {
   "cell_type": "code",
   "execution_count": null,
   "id": "910cd3db-6767-4787-8b76-03ce57ca896a",
   "metadata": {},
   "outputs": [],
   "source": []
  },
  {
   "cell_type": "code",
   "execution_count": null,
   "id": "4ae69c42-6ab2-4b7d-ae5a-66b982cd835e",
   "metadata": {},
   "outputs": [],
   "source": []
  },
  {
   "cell_type": "code",
   "execution_count": null,
   "id": "0d5ed772-c266-4379-abc9-6fe014fd0363",
   "metadata": {},
   "outputs": [],
   "source": []
  },
  {
   "cell_type": "code",
   "execution_count": null,
   "id": "bd45b2f6-1f8a-45a0-9eb0-4876f6669e94",
   "metadata": {},
   "outputs": [],
   "source": []
  },
  {
   "cell_type": "code",
   "execution_count": null,
   "id": "541e553d-7dcd-4e2e-8148-9c633b3e8ee0",
   "metadata": {},
   "outputs": [],
   "source": []
  },
  {
   "cell_type": "code",
   "execution_count": null,
   "id": "05638cb3-a577-46c6-9007-2511041f1694",
   "metadata": {},
   "outputs": [],
   "source": []
  }
 ],
 "metadata": {
  "kernelspec": {
   "display_name": "Python 3 (ipykernel)",
   "language": "python",
   "name": "python3"
  },
  "language_info": {
   "codemirror_mode": {
    "name": "ipython",
    "version": 3
   },
   "file_extension": ".py",
   "mimetype": "text/x-python",
   "name": "python",
   "nbconvert_exporter": "python",
   "pygments_lexer": "ipython3",
   "version": "3.12.1"
  }
 },
 "nbformat": 4,
 "nbformat_minor": 5
}
